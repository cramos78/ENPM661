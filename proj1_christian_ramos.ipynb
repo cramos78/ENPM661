{
 "cells": [
  {
   "cell_type": "markdown",
   "metadata": {},
   "source": [
    "## <center> PROJECT 1: 8-PUZZLE PROBLEM"
   ]
  },
  {
   "cell_type": "code",
   "execution_count": 1,
   "metadata": {},
   "outputs": [],
   "source": [
    "import copy\n",
    "import time"
   ]
  },
  {
   "cell_type": "markdown",
   "metadata": {},
   "source": [
    "Class Node that contains information about each Node"
   ]
  },
  {
   "cell_type": "code",
   "execution_count": 2,
   "metadata": {},
   "outputs": [],
   "source": [
    "class PuzzleNode:\n",
    "    def __init__(self, Node_State_i= [],Node_State_i_Int= 0, Node_Index_i=1,Parent_Node_Index_i=0,BlankTileIndex=(0,0)):\n",
    "        self.Node_State_i = Node_State_i\n",
    "        self.Node_State_i_Int = Node_State_i_Int\n",
    "        self.Node_Index_i = Node_Index_i\n",
    "        self.Parent_Node_Index_i = Parent_Node_Index_i\n",
    "        self.BlankTileIndex = BlankTileIndex"
   ]
  },
  {
   "cell_type": "markdown",
   "metadata": {},
   "source": [
    "Convert 2D array to 1D array:"
   ]
  },
  {
   "cell_type": "code",
   "execution_count": 3,
   "metadata": {},
   "outputs": [],
   "source": [
    "def conv2Dto1D(arr2D):\n",
    "    arr1D = []\n",
    "    for i in range(3):\n",
    "        for j in range(3):\n",
    "            arr1D.append(arr2D[i][j])\n",
    "    return arr1D"
   ]
  },
  {
   "cell_type": "markdown",
   "metadata": {},
   "source": [
    "Check if input puzzle is solvable:"
   ]
  },
  {
   "cell_type": "code",
   "execution_count": 4,
   "metadata": {},
   "outputs": [],
   "source": [
    "def isPuzzleSolvable(start_arr2D, goal_arr2D):\n",
    "    isSolvable  = False\n",
    "    start_arr1D = conv2Dto1D(start_arr2D)\n",
    "    goal_arr1D  = conv2Dto1D(goal_arr2D)\n",
    "    start_invCount = 0\n",
    "    goal_invCount = 0\n",
    "    for i in range(8):\n",
    "        for j in range(i+1,9):\n",
    "            if(start_arr1D[j]!=0 and start_arr1D[i] > start_arr1D[j]):\n",
    "                start_invCount +=1\n",
    "    for i in range(8):\n",
    "        for j in range(i+1,9):\n",
    "            if(goal_arr1D[j]!=0 and goal_arr1D[i] > goal_arr1D[j]):\n",
    "                goal_invCount +=1\n",
    "    if((start_invCount%2==0 and goal_invCount%2==0)):\n",
    "        print(\"Puzzle can be solved!!\")\n",
    "        isSolvable = True\n",
    "    if((start_invCount%2!=0 and goal_invCount%2!=0)):\n",
    "        print(\"Puzzle can be solved!!\")\n",
    "        isSolvable = True\n",
    "    return isSolvable"
   ]
  },
  {
   "cell_type": "markdown",
   "metadata": {},
   "source": [
    "Check if Goal Node has been found:"
   ]
  },
  {
   "cell_type": "code",
   "execution_count": 5,
   "metadata": {},
   "outputs": [],
   "source": [
    "def verifyGoalNode(currentNodePuzzle, newNodePuzzle):\n",
    "    intCurrPuzzle = puzzleNodeToInt(currentNodePuzzle)\n",
    "    intNewPuzzle = puzzleNodeToInt(newNodePuzzle)\n",
    "    if intCurrPuzzle == intNewPuzzle:\n",
    "        print(\"Target Goal Node Achieved...\")\n",
    "        return True\n",
    "    else:\n",
    "        return False"
   ]
  },
  {
   "cell_type": "markdown",
   "metadata": {},
   "source": [
    "Implementing BlankTileLocation function to localize index of 0 value in 3x3 Matrix    "
   ]
  },
  {
   "cell_type": "code",
   "execution_count": 6,
   "metadata": {},
   "outputs": [],
   "source": [
    "def BlankTileLocation(CurrentNode):\n",
    "    for (index_i,row_val) in enumerate(CurrentNode.Node_State_i):\n",
    "        for (index_j,col_val) in enumerate(row_val): \n",
    "            if col_val == 0:\n",
    "                row = index_i\n",
    "                column = index_j\n",
    "                CurrentNode.BlankTileIndex = (row,column)\n",
    "                break\n",
    "    return (row, column)"
   ]
  },
  {
   "cell_type": "markdown",
   "metadata": {},
   "source": [
    "Function to add a Node (Optimizing by converting array of elements to a single integer) to Matrix List:"
   ]
  },
  {
   "cell_type": "code",
   "execution_count": 7,
   "metadata": {},
   "outputs": [],
   "source": [
    "def AddNodeInt(CurrentNode):\n",
    "    global matrix_Idx\n",
    "    global Matrix_8puzzle_Nodes\n",
    "    intPuzzle = puzzleNodeToInt(CurrentNode)\n",
    "    CurrentNode.State_Node_i_Int = intPuzzle\n",
    "    NonRepeatedPuzzle = True\n",
    "    for i in Matrix_8puzzle_Nodes:\n",
    "        if (Matrix_8puzzle_Nodes[i].State_Node_i_Int == CurrentNode.State_Node_i_Int):\n",
    "            NonRepeatedPuzzle = False\n",
    "            break\n",
    "    if NonRepeatedPuzzle:\n",
    "        CurrentNode.Node_Index_i = matrix_Idx\n",
    "        Matrix_8puzzle_Nodes[matrix_Idx] = CurrentNode\n",
    "        matrix_Idx = matrix_Idx + 1"
   ]
  },
  {
   "cell_type": "code",
   "execution_count": 8,
   "metadata": {},
   "outputs": [],
   "source": [
    "def puzzleNodeToInt(Node):\n",
    "    array1D = conv2Dto1D(Node.Node_State_i)\n",
    "    exponent = 8\n",
    "    intPuzzle = 0\n",
    "    for i in array1D:\n",
    "        intPuzzle = intPuzzle + (i * 10**exponent)\n",
    "        exponent = exponent - 1 \n",
    "    return intPuzzle"
   ]
  },
  {
   "cell_type": "markdown",
   "metadata": {},
   "source": [
    "Function that moves blank tile to left and saves new node to matrix list:"
   ]
  },
  {
   "cell_type": "code",
   "execution_count": 9,
   "metadata": {},
   "outputs": [],
   "source": [
    "def ActionMoveLeft(currentNode, goalNode):\n",
    "\n",
    "    isGoalAchieved = False\n",
    "    \n",
    "    # Making a new independent copy using deepcopy()\n",
    "    New_Node = copy.deepcopy(currentNode)\n",
    "\n",
    "    #Locating Blank tile index position in puzzle\n",
    "    row, column = currentNode.BlankTileIndex\n",
    "\n",
    "    if column > 0:\n",
    "\n",
    "        #Swapping blank tile value to left neighbor tile\n",
    "        temp = New_Node.Node_State_i[row][column]\n",
    "        New_Node.Node_State_i[row][column] = New_Node.Node_State_i[row][column-1]\n",
    "        New_Node.Node_State_i[row][column-1] = temp\n",
    "        \n",
    "        # Updating Parent Node Index of newly created Node\n",
    "        New_Node.Parent_Node_Index_i = currentNode.Node_Index_i \n",
    "        \n",
    "        #Adding Node to Matrix_8puzzle_Nodes Dictionary\n",
    "        AddNodeInt(New_Node)\n",
    "        \n",
    "        #Check if goal has been achieved\n",
    "        isGoalAchieved = verifyGoalNode(New_Node,goalNode)\n",
    "\n",
    "    return isGoalAchieved"
   ]
  },
  {
   "cell_type": "markdown",
   "metadata": {},
   "source": [
    "Function that moves blank tile Up and saves new node to matrix list:"
   ]
  },
  {
   "cell_type": "code",
   "execution_count": 10,
   "metadata": {},
   "outputs": [],
   "source": [
    "def ActionMoveUp(currentNode, goalNode):\n",
    "    \n",
    "    isGoalAchieved = False\n",
    "    \n",
    "    # Making a new independent copy using deepcopy()\n",
    "    New_Node = copy.deepcopy(currentNode)\n",
    "\n",
    "    #Locating Blank tile index position in puzzle\n",
    "    row, column = currentNode.BlankTileIndex\n",
    "        \n",
    "    if row > 0:\n",
    "    \n",
    "        #Swapping blank tile value to above neighbor tile\n",
    "        temp = New_Node.Node_State_i[row][column]\n",
    "        New_Node.Node_State_i[row][column] = New_Node.Node_State_i[row-1][column]\n",
    "        New_Node.Node_State_i[row-1][column] = temp\n",
    "        \n",
    "        # Updating Parent Node Index of newly created Node\n",
    "        New_Node.Parent_Node_Index_i = currentNode.Node_Index_i \n",
    "\n",
    "        #Adding Node to Matrix_8puzzle_Nodes Dictionary\n",
    "        AddNodeInt(New_Node)\n",
    "\n",
    "        #Check if goal has been achieved\n",
    "        isGoalAchieved = verifyGoalNode(New_Node,goalNode)\n",
    "        \n",
    "    return isGoalAchieved"
   ]
  },
  {
   "cell_type": "markdown",
   "metadata": {},
   "source": [
    "Function that moves blank tile to right and saves new node to matrix list:"
   ]
  },
  {
   "cell_type": "code",
   "execution_count": 11,
   "metadata": {},
   "outputs": [],
   "source": [
    "def ActionMoveRight(currentNode, goalNode):\n",
    "\n",
    "    isGoalAchieved = False\n",
    "    \n",
    "    # Making a new independent copy using deepcopy()\n",
    "    New_Node = copy.deepcopy(currentNode)\n",
    "\n",
    "    #Locating Blank tile index position in puzzle\n",
    "    row, column = currentNode.BlankTileIndex\n",
    "    \n",
    "    if column < 2:\n",
    "        \n",
    "        #Swapping blank tile value to right neighbor tile\n",
    "        temp = New_Node.Node_State_i[row][column]\n",
    "        New_Node.Node_State_i[row][column] = New_Node.Node_State_i[row][column+1]\n",
    "        New_Node.Node_State_i[row][column+1] = temp\n",
    "\n",
    "        # Updating Parent Node Index of newly created Node\n",
    "        New_Node.Parent_Node_Index_i = currentNode.Node_Index_i \n",
    "        \n",
    "        #Adding Node to Matrix_8puzzle_Nodes Dictionary\n",
    "        AddNodeInt(New_Node)\n",
    "\n",
    "        #Check if goal has been achieved\n",
    "        isGoalAchieved = verifyGoalNode(New_Node,goalNode)\n",
    "        \n",
    "    return isGoalAchieved"
   ]
  },
  {
   "cell_type": "markdown",
   "metadata": {},
   "source": [
    "Function that moves blank tile Down and saves new node to matrix list:"
   ]
  },
  {
   "cell_type": "code",
   "execution_count": 12,
   "metadata": {},
   "outputs": [],
   "source": [
    "def ActionMoveDown(currentNode, goalNode):\n",
    "    \n",
    "    isGoalAchieved = False\n",
    "    \n",
    "    # Making a new independent copy using deepcopy()\n",
    "    New_Node = copy.deepcopy(currentNode)    \n",
    "\n",
    "    #Locating Blank tile index position in puzzle\n",
    "    row, column = currentNode.BlankTileIndex\n",
    "        \n",
    "    if row < 2:\n",
    "        \n",
    "        #Swapping blank tile value to below neighbor tile\n",
    "        temp = New_Node.Node_State_i[row][column]\n",
    "        New_Node.Node_State_i[row][column] = New_Node.Node_State_i[row+1][column]\n",
    "        New_Node.Node_State_i[row+1][column] = temp\n",
    "        \n",
    "        # Updating Parent Node Index of newly created Node\n",
    "        New_Node.Parent_Node_Index_i = currentNode.Node_Index_i \n",
    "        \n",
    "        #Adding Node to Matrix_8puzzle_Nodes Dictionary\n",
    "        AddNodeInt(New_Node)\n",
    "\n",
    "        #Check if goal has been achieved\n",
    "        isGoalAchieved = verifyGoalNode(New_Node,goalNode)\n",
    "        \n",
    "    return isGoalAchieved"
   ]
  },
  {
   "cell_type": "markdown",
   "metadata": {},
   "source": [
    "Function that allows move in all directions except left:"
   ]
  },
  {
   "cell_type": "code",
   "execution_count": 13,
   "metadata": {},
   "outputs": [],
   "source": [
    "def NoMoveLeft(currentNode, goalNode):\n",
    "    if ActionMoveUp(currentNode,goalNode): return True\n",
    "    if ActionMoveRight(currentNode,goalNode): return True\n",
    "    if ActionMoveDown(currentNode,goalNode): return True"
   ]
  },
  {
   "cell_type": "markdown",
   "metadata": {},
   "source": [
    "Function that allows move in all directions except Up:"
   ]
  },
  {
   "cell_type": "code",
   "execution_count": 14,
   "metadata": {},
   "outputs": [],
   "source": [
    "def NoMoveUp(currentNode, goalNode):\n",
    "    if ActionMoveLeft(currentNode,goalNode): return True\n",
    "    if ActionMoveRight(currentNode,goalNode): return True\n",
    "    if ActionMoveDown(currentNode,goalNode): return True"
   ]
  },
  {
   "cell_type": "markdown",
   "metadata": {},
   "source": [
    "Function that allows move in all directions except Right:"
   ]
  },
  {
   "cell_type": "code",
   "execution_count": 15,
   "metadata": {},
   "outputs": [],
   "source": [
    "def NoMoveRight(currentNode, goalNode):\n",
    "    if ActionMoveLeft(currentNode,goalNode): return True\n",
    "    if ActionMoveUp(currentNode,goalNode): return True\n",
    "    if ActionMoveDown(currentNode,goalNode): return True"
   ]
  },
  {
   "cell_type": "markdown",
   "metadata": {},
   "source": [
    "Function that allows move in all directions except Down:"
   ]
  },
  {
   "cell_type": "code",
   "execution_count": 16,
   "metadata": {},
   "outputs": [],
   "source": [
    "def NoMoveDown(currentNode, goalNode):\n",
    "    if ActionMoveLeft(currentNode,goalNode): return True\n",
    "    if ActionMoveUp(currentNode,goalNode): return True\n",
    "    if ActionMoveRight(currentNode,goalNode): return True"
   ]
  },
  {
   "cell_type": "markdown",
   "metadata": {},
   "source": [
    "Function to backtrack solution from Start Node to Goal Node"
   ]
  },
  {
   "cell_type": "code",
   "execution_count": 17,
   "metadata": {},
   "outputs": [],
   "source": [
    "def backTrackingNodePath(Matrix_8puzzle_Nodes):\n",
    "    NodePath = []\n",
    "    goal_index = len(Matrix_8puzzle_Nodes)\n",
    "    Parent_Idx = Matrix_8puzzle_Nodes[goal_index].Parent_Node_Index_i\n",
    "    NodePath.append(str(Matrix_8puzzle_Nodes[goal_index].Node_State_i))    \n",
    "    while Parent_Idx != 0:\n",
    "        NodePath.append(str(Matrix_8puzzle_Nodes[Parent_Idx].Node_State_i))\n",
    "        Parent_Idx = Matrix_8puzzle_Nodes[Parent_Idx].Parent_Node_Index_i\n",
    "    NodePath.reverse()\n",
    "    return NodePath\n",
    "    "
   ]
  },
  {
   "cell_type": "markdown",
   "metadata": {},
   "source": [
    "Function that saves Puzzle Nodes Path to text file nodePath.txt:"
   ]
  },
  {
   "cell_type": "code",
   "execution_count": 18,
   "metadata": {},
   "outputs": [],
   "source": [
    "def savePuzzleToNodePathFile(NodePathList):\n",
    "    outFile = open(\"nodePath.txt\",\"w\")\n",
    "    for i in NodePathList:\n",
    "        strNodePathList = i.replace('[','').replace(']','')        \n",
    "        strNPL = strNodePathList.replace(',', '').replace(' ','')\n",
    "        columnFormatNodePath = strNPL[0] + \" \" + strNPL[3] + \" \" + strNPL[6] + \" \" + strNPL[1] + \" \" + strNPL[4] + \" \" + strNPL[7] + \" \" + strNPL[2] + \" \" + strNPL[5] + \" \" + strNPL[8]\n",
    "        outFile.writelines(columnFormatNodePath)\n",
    "    outFile.close()"
   ]
  },
  {
   "cell_type": "markdown",
   "metadata": {},
   "source": [
    "Function that saves explored puzzle nodes to Nodes.txt:"
   ]
  },
  {
   "cell_type": "code",
   "execution_count": 19,
   "metadata": {},
   "outputs": [],
   "source": [
    "def savePuzzleToNodesFile(Matrix_8puzzle_Nodes):\n",
    "    outFile = open(\"Nodes.txt\",\"w\")\n",
    "    for i in Matrix_8puzzle_Nodes:\n",
    "        Matpuzzle = str(Matrix_8puzzle_Nodes[i].Node_State_i).replace('[','').replace(']','')\n",
    "        Mat8 = Matpuzzle.replace(',', '').replace(' ','')\n",
    "        formattedMatrix8 = Mat8[0] + \" \" + Mat8[3] + \" \" + Mat8[6] + \" \" + Mat8[1] + \" \" + Mat8[4] + \" \" + Mat8[7] + \" \" + Mat8[2] + \" \" + Mat8[5] + \" \" + Mat8[8]\n",
    "        outFile.writelines(formattedMatrix8)\n",
    "        outFile.writelines('\\n')\n",
    "    outFile.close()"
   ]
  },
  {
   "cell_type": "markdown",
   "metadata": {},
   "source": [
    "Function that saves puzzle Nodes Indexes and their Parent Indexes to NodesInfo.txt:"
   ]
  },
  {
   "cell_type": "code",
   "execution_count": 20,
   "metadata": {},
   "outputs": [],
   "source": [
    "def savePuzzleToNodesInfoFile(Matrix_8puzzle_Nodes):\n",
    "    outFile = open(\"NodesInfo.txt\",\"w\")\n",
    "    for i in Matrix_8puzzle_Nodes:\n",
    "        strMat8Puzzle = str(Matrix_8puzzle_Nodes[i].Node_Index_i) + \" \" + str(Matrix_8puzzle_Nodes[i].Parent_Node_Index_i) + \" 0\"\n",
    "        outFile.writelines(strMat8Puzzle)\n",
    "        outFile.writelines('\\n')\n",
    "    outFile.close()"
   ]
  },
  {
   "cell_type": "markdown",
   "metadata": {},
   "source": [
    "### Main Program"
   ]
  },
  {
   "cell_type": "code",
   "execution_count": 21,
   "metadata": {},
   "outputs": [],
   "source": [
    "t = time.time()"
   ]
  },
  {
   "cell_type": "code",
   "execution_count": 22,
   "metadata": {},
   "outputs": [
    {
     "name": "stdout",
     "output_type": "stream",
     "text": [
      "Puzzle can be solved!!\n",
      "Target Goal Node Achieved...\n",
      "Program is over...\n"
     ]
    }
   ],
   "source": [
    "Matrix_8puzzle_Nodes = {}\n",
    "matrix_Idx = 1              # Index of Matrix_8puzzle_Nodes\n",
    "\n",
    "#Entering Initial 8-Puzzle Matrix and desired Goal Puzzle: \n",
    "Start_Node = PuzzleNode([[2, 8, 3], [1, 6, 4], [7, 0, 5]])    \n",
    "Goal_Node =  PuzzleNode([[1, 2, 3], [8, 0, 4], [7, 6, 5]])\n",
    "\n",
    "isSolvable = isPuzzleSolvable(Start_Node.Node_State_i, Goal_Node.Node_State_i)\n",
    "\n",
    "if (isSolvable):\n",
    "    #Adding Initial Node to 8-Puzzle Matrix\n",
    "    AddNodeInt(Start_Node)\n",
    "\n",
    "    Current_Node = Matrix_8puzzle_Nodes[1]\n",
    "    BlankTileLocation(Current_Node)\n",
    "\n",
    "    ActionMoveLeft(Current_Node,Goal_Node)\n",
    "    ActionMoveUp(Current_Node,Goal_Node)\n",
    "    ActionMoveRight(Current_Node,Goal_Node)\n",
    "    ActionMoveDown(Current_Node,Goal_Node)\n",
    "    \n",
    "    for i in range(2,200000):\n",
    "        \n",
    "        Current_Node = Matrix_8puzzle_Nodes[i]\n",
    "        \n",
    "        curr_row, curr_column = BlankTileLocation(Current_Node)\n",
    "\n",
    "        curr_node_parent_index = Current_Node.Parent_Node_Index_i\n",
    "\n",
    "        prev_row, prev_column = BlankTileLocation(Matrix_8puzzle_Nodes[curr_node_parent_index])\n",
    "        \n",
    "        if prev_column > curr_column:\n",
    "            if NoMoveRight(Current_Node, Goal_Node): break\n",
    "            \n",
    "        elif prev_column < curr_column:\n",
    "            if NoMoveLeft(Current_Node, Goal_Node): break\n",
    "\n",
    "        elif (prev_column == curr_column) and (prev_row > curr_row):\n",
    "            if NoMoveDown(Current_Node, Goal_Node): break\n",
    "\n",
    "        elif (prev_column == curr_column) and (prev_row < curr_row):\n",
    "            if NoMoveUp(Current_Node, Goal_Node): break\n",
    "            \n",
    "        elif prev_row > curr_row:\n",
    "            if NoMoveDown(Current_Node, Goal_Node): break\n",
    "\n",
    "        elif prev_row < curr_row:\n",
    "            if NoMoveUp(Current_Node, Goal_Node): break\n",
    "            \n",
    "        elif prev_row == curr_row and prev_column > curr_column:\n",
    "            if NoMoveRight(Current_Node, Goal_Node): break\n",
    "\n",
    "        elif prev_row == curr_row and prev_column < curr_column:\n",
    "            if NoMoveLeft(Current_Node, Goal_Node): break\n",
    "\n",
    "    NodePathList = backTrackingNodePath(Matrix_8puzzle_Nodes)\n",
    "    \n",
    "    savePuzzleToNodePathFile(NodePathList)\n",
    "    savePuzzleToNodesFile(Matrix_8puzzle_Nodes)\n",
    "    savePuzzleToNodesInfoFile(Matrix_8puzzle_Nodes)\n",
    "    \n",
    "    print(\"Program is over...\")\n",
    "    \n",
    "else:\n",
    "    print(\"Input Puzzle has no solution, program is terminating ...\")"
   ]
  },
  {
   "cell_type": "code",
   "execution_count": 23,
   "metadata": {
    "scrolled": false
   },
   "outputs": [
    {
     "name": "stdout",
     "output_type": "stream",
     "text": [
      "0.02692723274230957\n"
     ]
    }
   ],
   "source": [
    "print(time.time()-t)"
   ]
  },
  {
   "cell_type": "code",
   "execution_count": null,
   "metadata": {},
   "outputs": [],
   "source": []
  },
  {
   "cell_type": "code",
   "execution_count": null,
   "metadata": {},
   "outputs": [],
   "source": []
  }
 ],
 "metadata": {
  "kernelspec": {
   "display_name": "Python 3",
   "language": "python",
   "name": "python3"
  },
  "language_info": {
   "codemirror_mode": {
    "name": "ipython",
    "version": 3
   },
   "file_extension": ".py",
   "mimetype": "text/x-python",
   "name": "python",
   "nbconvert_exporter": "python",
   "pygments_lexer": "ipython3",
   "version": "3.6.8"
  }
 },
 "nbformat": 4,
 "nbformat_minor": 2
}
