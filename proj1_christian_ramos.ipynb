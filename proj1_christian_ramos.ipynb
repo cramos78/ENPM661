{
 "cells": [
  {
   "cell_type": "markdown",
   "metadata": {},
   "source": [
    "## <center> PROJECT 1: 8-PUZZLE PROBLEM"
   ]
  },
  {
   "cell_type": "code",
   "execution_count": null,
   "metadata": {},
   "outputs": [],
   "source": [
    "import copy"
   ]
  },
  {
   "cell_type": "markdown",
   "metadata": {},
   "source": [
    "Class Node that contains information about each Node"
   ]
  },
  {
   "cell_type": "code",
   "execution_count": null,
   "metadata": {},
   "outputs": [],
   "source": [
    "class PuzzleNode:\n",
    "    def __init__(self, Node_State_i=[], Node_Index_i=1,Parent_Node_Index_i=1,BlankTileIndex=(0,0)):\n",
    "        self.Node_State_i = Node_State_i\n",
    "        self.Node_Index_i = Node_Index_i\n",
    "        self.Parent_Node_Index_i = Parent_Node_Index_i\n",
    "        self.BlankTileIndex = BlankTileIndex"
   ]
  },
  {
   "cell_type": "markdown",
   "metadata": {},
   "source": [
    "Convert 2D array to 1D array:"
   ]
  },
  {
   "cell_type": "code",
   "execution_count": null,
   "metadata": {},
   "outputs": [],
   "source": [
    "def conv2Dto1D(arr2D):\n",
    "    arr1D = []\n",
    "    for i in range(3):\n",
    "        for j in range(3):\n",
    "            arr1D.append(arr2D[i][j])\n",
    "    return arr1D"
   ]
  },
  {
   "cell_type": "markdown",
   "metadata": {},
   "source": [
    "Check if input puzzle is solvable:"
   ]
  },
  {
   "cell_type": "code",
   "execution_count": null,
   "metadata": {},
   "outputs": [],
   "source": [
    "def isPuzzleSolvable(start_arr2D, goal_arr2D):\n",
    "    isSolvable  = False\n",
    "    start_arr1D = conv2Dto1D(start_arr2D)\n",
    "    goal_arr1D  = conv2Dto1D(goal_arr2D)\n",
    "    start_invCount = 0\n",
    "    goal_invCount = 0\n",
    "    for i in range(8):\n",
    "        for j in range(i+1,9):\n",
    "            if(start_arr1D[j]!=0 and start_arr1D[i] > start_arr1D[j]):\n",
    "                start_invCount +=1\n",
    "    for i in range(8):\n",
    "        for j in range(i+1,9):\n",
    "            if(goal_arr1D[j]!=0 and goal_arr1D[i] > goal_arr1D[j]):\n",
    "                goal_invCount +=1\n",
    "    if((start_invCount%2==0 and goal_invCount%2==0)):\n",
    "        print(\"Both Start Puzzle and Goal Puzzle contain even number of inversions\")\n",
    "        print(\"Start Inversion Counter = \", start_invCount)\n",
    "        print(\"Goal Inversion Counter = \", goal_invCount)\n",
    "        print(\"Puzzle can be solved!!\")\n",
    "        isSolvable = True\n",
    "    if((start_invCount%2!=0 and goal_invCount%2!=0)):\n",
    "        print(\"Both Start Puzzle and Goal Puzzle contain odd number of inversions\")\n",
    "        print(\"Start Inversion Counter = \", start_invCount)\n",
    "        print(\"Goal Inversion Counter = \", goal_invCount)\n",
    "        print(\"Puzzle can be solved!!\")\n",
    "        isSolvable = True\n",
    "    return isSolvable"
   ]
  },
  {
   "cell_type": "markdown",
   "metadata": {},
   "source": [
    "Check if Goal Node has been found:"
   ]
  },
  {
   "cell_type": "code",
   "execution_count": null,
   "metadata": {},
   "outputs": [],
   "source": [
    "def verifyGoalNode(currentNodePuzzle, newNodePuzzle):\n",
    "    if currentNodePuzzle == newNodePuzzle:\n",
    "        print(\"Target Goal Node Achieved...\")\n",
    "        return True\n",
    "    else:\n",
    "        return False"
   ]
  },
  {
   "cell_type": "markdown",
   "metadata": {},
   "source": [
    "Implementing BlankTileLocation function to localize index of 0 value in 3x3 Matrix    "
   ]
  },
  {
   "cell_type": "code",
   "execution_count": null,
   "metadata": {},
   "outputs": [],
   "source": [
    "def BlankTileLocation(CurrentNode):\n",
    "    for (index_i,row_val) in enumerate(CurrentNode.Node_State_i):\n",
    "        for (index_j,col_val) in enumerate(row_val): \n",
    "            if col_val == 0:\n",
    "                row = index_i\n",
    "                column = index_j\n",
    "                CurrentNode.BlankTileIndex = (row,column)\n",
    "                break\n",
    "    return (row, column)"
   ]
  },
  {
   "cell_type": "markdown",
   "metadata": {},
   "source": [
    "Function to add a Node to Matrix List if New Node is not repeated in Puzzle Matrix:"
   ]
  },
  {
   "cell_type": "code",
   "execution_count": null,
   "metadata": {},
   "outputs": [],
   "source": [
    "def AddNonRepeatedNode(CurrentNode):\n",
    "    global matrix_Idx\n",
    "    global Matrix_8puzzle_Nodes\n",
    "    NonRepeatedPuzzle = True\n",
    "    for i in Matrix_8puzzle_Nodes:\n",
    "        if (Matrix_8puzzle_Nodes[i].Node_State_i == CurrentNode.Node_State_i) :\n",
    "            print(i)\n",
    "            NonRepeatedPuzzle = False\n",
    "            break\n",
    "    if NonRepeatedPuzzle:\n",
    "        print(\"Matrix Puzzle Idx =\",matrix_Idx)\n",
    "        CurrentNode.Node_Index_i = matrix_Idx\n",
    "        Matrix_8puzzle_Nodes[matrix_Idx] = CurrentNode\n",
    "        matrix_Idx = matrix_Idx + 1\n",
    "    else:\n",
    "        print(\"Puzzle :\", CurrentNode.Node_State_i,\" is repeated in Matrix Puzzle..\")"
   ]
  },
  {
   "cell_type": "markdown",
   "metadata": {},
   "source": [
    "Function that moves blank tile to left and saves new node to matrix list:"
   ]
  },
  {
   "cell_type": "code",
   "execution_count": null,
   "metadata": {},
   "outputs": [],
   "source": [
    "def ActionMoveLeft(currentNode, goalNode):\n",
    "\n",
    "    isGoalAchieved = False\n",
    "    \n",
    "    # Making a new independent copy using deepcopy()\n",
    "    New_Node = copy.deepcopy(currentNode)\n",
    "\n",
    "    #Locating Blank tile index position in puzzle\n",
    "    row, column = currentNode.BlankTileIndex\n",
    "\n",
    "    if column > 0:\n",
    "\n",
    "        #Swapping blank tile value to left neighbor tile\n",
    "        temp = New_Node.Node_State_i[row][column]\n",
    "        New_Node.Node_State_i[row][column] = New_Node.Node_State_i[row][column-1]\n",
    "        New_Node.Node_State_i[row][column-1] = temp\n",
    "        \n",
    "        # Updating Parent Node Index of newly created Node\n",
    "        New_Node.Parent_Node_Index_i = currentNode.Node_Index_i \n",
    "        \n",
    "        #Adding Node to Matrix_8puzzle_Nodes Dictionary\n",
    "        AddNonRepeatedNode(New_Node)\n",
    "        \n",
    "        #Check if goal has been achieved\n",
    "        isGoalAchieved = verifyGoalNode(New_Node.Node_State_i,Goal_Node.Node_State_i)\n",
    "        \n",
    "        #print(\"Old Node = \",currentNode.Node_State_i)\n",
    "        #print(\"Left New Node = \",New_Node.Node_State_i)\n",
    "    else:\n",
    "        print(\"Moves Tile left is not possible...\")\n",
    "    return isGoalAchieved"
   ]
  },
  {
   "cell_type": "markdown",
   "metadata": {},
   "source": [
    "Function that moves blank tile Up and saves new node to matrix list:"
   ]
  },
  {
   "cell_type": "code",
   "execution_count": null,
   "metadata": {},
   "outputs": [],
   "source": [
    "def ActionMoveUp(currentNode, goalNode):\n",
    "    \n",
    "    isGoalAchieved = False\n",
    "    \n",
    "    # Making a new independent copy using deepcopy()\n",
    "    New_Node = copy.deepcopy(currentNode)\n",
    "\n",
    "    #Locating Blank tile index position in puzzle\n",
    "    row, column = currentNode.BlankTileIndex\n",
    "        \n",
    "    if row > 0:\n",
    "    \n",
    "        #Swapping blank tile value to above neighbor tile\n",
    "        temp = New_Node.Node_State_i[row][column]\n",
    "        New_Node.Node_State_i[row][column] = New_Node.Node_State_i[row-1][column]\n",
    "        New_Node.Node_State_i[row-1][column] = temp\n",
    "        \n",
    "        # Updating Parent Node Index of newly created Node\n",
    "        New_Node.Parent_Node_Index_i = currentNode.Node_Index_i \n",
    "\n",
    "        #Adding Node to Matrix_8puzzle_Nodes Dictionary\n",
    "        AddNonRepeatedNode(New_Node)\n",
    "\n",
    "        #Check if goal has been achieved\n",
    "        isGoalAchieved = verifyGoalNode(New_Node.Node_State_i,Goal_Node.Node_State_i)\n",
    "        \n",
    "        #print(\"Old Node = \",currentNode.Node_State_i)\n",
    "        #print(\"Up New Node = \",New_Node.Node_State_i)\n",
    "    else:\n",
    "        print(\"Moves Tile up is not possible...\")\n",
    "    return isGoalAchieved"
   ]
  },
  {
   "cell_type": "markdown",
   "metadata": {},
   "source": [
    "Function that moves blank tile to right and saves new node to matrix list:"
   ]
  },
  {
   "cell_type": "code",
   "execution_count": null,
   "metadata": {},
   "outputs": [],
   "source": [
    "def ActionMoveRight(currentNode, goalNode):\n",
    "\n",
    "    isGoalAchieved = False\n",
    "    \n",
    "    # Making a new independent copy using deepcopy()\n",
    "    New_Node = copy.deepcopy(currentNode)\n",
    "\n",
    "    #Locating Blank tile index position in puzzle\n",
    "    row, column = currentNode.BlankTileIndex\n",
    "    \n",
    "    if column < 2:\n",
    "        \n",
    "        #Swapping blank tile value to right neighbor tile\n",
    "        temp = New_Node.Node_State_i[row][column]\n",
    "        New_Node.Node_State_i[row][column] = New_Node.Node_State_i[row][column+1]\n",
    "        New_Node.Node_State_i[row][column+1] = temp\n",
    "\n",
    "        # Updating Parent Node Index of newly created Node\n",
    "        New_Node.Parent_Node_Index_i = currentNode.Node_Index_i \n",
    "        \n",
    "        #Adding Node to Matrix_8puzzle_Nodes Dictionary\n",
    "        AddNonRepeatedNode(New_Node)\n",
    "\n",
    "        #Check if goal has been achieved\n",
    "        isGoalAchieved = verifyGoalNode(New_Node.Node_State_i,Goal_Node.Node_State_i)\n",
    "        \n",
    "        #print(\"Old Node = \",currentNode.Node_State_i)\n",
    "        #print(\"Right New Node = \",New_Node.Node_State_i)\n",
    "    else:\n",
    "        print(\"Moving Tile to right is not possible...\")\n",
    "    return isGoalAchieved"
   ]
  },
  {
   "cell_type": "markdown",
   "metadata": {},
   "source": [
    "Function that moves blank tile Down and saves new node to matrix list:"
   ]
  },
  {
   "cell_type": "code",
   "execution_count": null,
   "metadata": {},
   "outputs": [],
   "source": [
    "def ActionMoveDown(currentNode, goalNode):\n",
    "    \n",
    "    isGoalAchieved = False\n",
    "    \n",
    "    # Making a new independent copy using deepcopy()\n",
    "    New_Node = copy.deepcopy(currentNode)    \n",
    "\n",
    "    #Locating Blank tile index position in puzzle\n",
    "    row, column = currentNode.BlankTileIndex\n",
    "        \n",
    "    if row < 2:\n",
    "        \n",
    "        #Swapping blank tile value to below neighbor tile\n",
    "        temp = New_Node.Node_State_i[row][column]\n",
    "        New_Node.Node_State_i[row][column] = New_Node.Node_State_i[row+1][column]\n",
    "        New_Node.Node_State_i[row+1][column] = temp\n",
    "        \n",
    "        # Updating Parent Node Index of newly created Node\n",
    "        New_Node.Parent_Node_Index_i = currentNode.Node_Index_i \n",
    "        \n",
    "        #Adding Node to Matrix_8puzzle_Nodes Dictionary\n",
    "        AddNonRepeatedNode(New_Node)\n",
    "\n",
    "        #Check if goal has been achieved\n",
    "        isGoalAchieved = verifyGoalNode(New_Node.Node_State_i,Goal_Node.Node_State_i)\n",
    "        \n",
    "        #print(\"Old Node = \",currentNode.Node_State_i)\n",
    "        #print(\"Down New Node = \",New_Node.Node_State_i)\n",
    "    else:\n",
    "        print(\"Moves Tile down is not possible...\")\n",
    "    return isGoalAchieved"
   ]
  },
  {
   "cell_type": "markdown",
   "metadata": {},
   "source": [
    "Function that allows move in all directions except left:"
   ]
  },
  {
   "cell_type": "code",
   "execution_count": null,
   "metadata": {},
   "outputs": [],
   "source": [
    "def NoMoveLeft(currentNode, goalNode):\n",
    "    if ActionMoveUp(currentNode,goalNode): return True\n",
    "    if ActionMoveRight(currentNode,goalNode): return True\n",
    "    if ActionMoveDown(currentNode,goalNode): return True"
   ]
  },
  {
   "cell_type": "markdown",
   "metadata": {},
   "source": [
    "Function that allows move in all directions except Up:"
   ]
  },
  {
   "cell_type": "code",
   "execution_count": null,
   "metadata": {},
   "outputs": [],
   "source": [
    "def NoMoveUp(currentNode, goalNode):\n",
    "    if ActionMoveLeft(currentNode,goalNode): return True\n",
    "    if ActionMoveRight(currentNode,goalNode): return True\n",
    "    if ActionMoveDown(currentNode,goalNode): return True"
   ]
  },
  {
   "cell_type": "markdown",
   "metadata": {},
   "source": [
    "Function that allows move in all directions except Right:"
   ]
  },
  {
   "cell_type": "code",
   "execution_count": null,
   "metadata": {},
   "outputs": [],
   "source": [
    "def NoMoveRight(currentNode, goalNode):\n",
    "    if ActionMoveLeft(currentNode,goalNode): return True\n",
    "    if ActionMoveUp(currentNode,goalNode): return True\n",
    "    if ActionMoveDown(currentNode,goalNode): return True"
   ]
  },
  {
   "cell_type": "markdown",
   "metadata": {},
   "source": [
    "Function that allows move in all directions except Down:"
   ]
  },
  {
   "cell_type": "code",
   "execution_count": null,
   "metadata": {},
   "outputs": [],
   "source": [
    "def NoMoveDown(currentNode, goalNode):\n",
    "    if ActionMoveLeft(currentNode,goalNode): return True\n",
    "    if ActionMoveUp(currentNode,goalNode): return True\n",
    "    if ActionMoveRight(currentNode,goalNode): return True"
   ]
  },
  {
   "cell_type": "markdown",
   "metadata": {},
   "source": [
    "### Main Program"
   ]
  },
  {
   "cell_type": "markdown",
   "metadata": {},
   "source": [
    "Dictionary that contains all generated nodes:"
   ]
  },
  {
   "cell_type": "code",
   "execution_count": null,
   "metadata": {},
   "outputs": [],
   "source": [
    "Matrix_8puzzle_Nodes = {}\n",
    "matrix_Idx = 1              # Index of Matrix_8puzzle_Nodes\n",
    "\n",
    "#Entering Initial 8-Puzzle Matrix and desired Goal Puzzle:\n",
    "Start_Node = PuzzleNode([[2, 8, 3], [1, 6, 4], [7, 0, 5]])    \n",
    "Goal_Node =  PuzzleNode([[1, 2, 3], [8, 5, 4], [6, 7, 0]])\n",
    "\n",
    "isSolvable = isPuzzleSolvable(Start_Node.Node_State_i, Goal_Node.Node_State_i)\n",
    "\n",
    "if (isSolvable):\n",
    "    #Adding Initial Node to 8-Puzzle Matrix\n",
    "    AddNonRepeatedNode(Start_Node)\n",
    "\n",
    "    Current_Node = Matrix_8puzzle_Nodes[1]\n",
    "    BlankTileLocation(Current_Node)\n",
    "\n",
    "    ActionMoveLeft(Current_Node,Goal_Node)\n",
    "    ActionMoveUp(Current_Node,Goal_Node)\n",
    "    ActionMoveRight(Current_Node,Goal_Node)\n",
    "    ActionMoveDown(Current_Node,Goal_Node)\n",
    "    \n",
    "    for i in range(2,180000):\n",
    "        \n",
    "        Current_Node = Matrix_8puzzle_Nodes[i]\n",
    "        \n",
    "        curr_row, curr_column = BlankTileLocation(Current_Node)\n",
    "\n",
    "        curr_node_parent_index = Current_Node.Parent_Node_Index_i\n",
    "\n",
    "        prev_row, prev_column = BlankTileLocation(Matrix_8puzzle_Nodes[curr_node_parent_index])\n",
    "        \n",
    "        if prev_column > curr_column:\n",
    "            if NoMoveRight(Current_Node, Goal_Node): break\n",
    "            \n",
    "        elif prev_column < curr_column:\n",
    "            if NoMoveLeft(Current_Node, Goal_Node): break\n",
    "\n",
    "        elif (prev_column == curr_column) and (prev_row > curr_row):\n",
    "            if NoMoveDown(Current_Node, Goal_Node): break\n",
    "\n",
    "        elif (prev_column == curr_column) and (prev_row < curr_row):\n",
    "            if NoMoveUp(Current_Node, Goal_Node): break\n",
    "            \n",
    "        elif prev_row > curr_row:\n",
    "            if NoMoveDown(Current_Node, Goal_Node): break\n",
    "\n",
    "        elif prev_row < curr_row:\n",
    "            if NoMoveUp(Current_Node, Goal_Node): break\n",
    "            \n",
    "        elif prev_row == curr_row and prev_column > curr_column:\n",
    "            if NoMoveRight(Current_Node, Goal_Node): break\n",
    "\n",
    "        elif prev_row == curr_row and prev_column < curr_column:\n",
    "            if NoMoveLeft(Current_Node, Goal_Node): break\n",
    "\n",
    "    for state in Matrix_8puzzle_Nodes:\n",
    "        print(state)\n",
    "        print(Matrix_8puzzle_Nodes[state].Node_State_i)\n",
    "    \n",
    "    print(\"Program is over...\")\n",
    "    \n",
    "else:\n",
    "    print(\"Input Puzzle has no solution, program is terminating ...\")"
   ]
  },
  {
   "cell_type": "code",
   "execution_count": null,
   "metadata": {},
   "outputs": [],
   "source": []
  }
 ],
 "metadata": {
  "kernelspec": {
   "display_name": "Python 3",
   "language": "python",
   "name": "python3"
  },
  "language_info": {
   "codemirror_mode": {
    "name": "ipython",
    "version": 3
   },
   "file_extension": ".py",
   "mimetype": "text/x-python",
   "name": "python",
   "nbconvert_exporter": "python",
   "pygments_lexer": "ipython3",
   "version": "3.6.8"
  }
 },
 "nbformat": 4,
 "nbformat_minor": 2
}
